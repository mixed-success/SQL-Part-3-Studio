{
    "metadata": {
        "kernelspec": {
            "name": "SQL",
            "display_name": "SQL",
            "language": "sql"
        },
        "language_info": {
            "name": "sql",
            "version": ""
        },
        "extensions": {
            "azuredatastudio": {
                "version": 1,
                "views": []
            }
        }
    },
    "nbformat_minor": 2,
    "nbformat": 4,
    "cells": [
        {
            "cell_type": "markdown",
            "source": [
                "# SQL Part 3 Studio\n",
                "\n",
                "### Let's practice your SQL quering skills!  For each question, work along in the notebook adding your query and answering the questions. \n",
                "\n",
                "### **DataSet**\n",
                "\n",
                "### <span style=\"font-size: 14px; font-family: -apple-system, BlinkMacSystemFont, sans-serif;\">We will be using the Goodbooks-10k dataset from the exercises in the prep work.&nbsp; Feel free reference your previous notebooks.</span>\n",
                "\n",
                "- The dataset can be found here: [goodbooks-10k](https://www.kaggle.com/zygmunt/goodbooks-10k)\n",
                "- You can access the **BooksDB** in the Launchcode server.\n",
                "\n",
                "### **Business Issue**\n",
                "\n",
                "You are an employee at a small independet bookstore and you have been tasked to increase sales.  You decide to use the BooksDB to find books and themes to highlight in fun promotions throughout each month / season.  We will be starting with March and then you will have a chance to explore another month of your choosing.  We want to come up with a list of events/ promotions to run each month.  If you are looking for ideas to include in your promotions:\n",
                "\n",
                "- [https://www.calendarr.com/united-states/calendar-2022/](https://www.calendarr.com/united-states/calendar-2022/)\n",
                "- [https://www.holidayinsights.com/moreholidays/](https://www.holidayinsights.com/moreholidays/)\n",
                "    - Click on a month and it will take you to a more detailed page"
            ],
            "metadata": {
                "azdata_cell_guid": "b9034d8a-b631-48bf-a895-1012a6ffa784"
            },
            "attachments": {}
        },
        {
            "cell_type": "markdown",
            "source": [
                "## Part 1:  March - Women's History Month, Dr Seuss Day(3/2), National Pie Day3/14, St Patrick's Day (3/17), Season - Spring"
            ],
            "metadata": {
                "azdata_cell_guid": "6e55eb1c-4a14-4076-90d2-95ed17a6309f"
            },
            "attachments": {}
        },
        {
            "cell_type": "markdown",
            "source": [
                "### **Event 1:** Women's History Month\n",
                "\n",
                "Goal: Highlight Popular Womans Authors based on ratings from the Good Reads DB.\n",
                "\n",
                "### **Write a query that returns tag\\_id, the number of times each tag\\_id is used and the tag\\_name.**  \n",
                "\n",
                "### Use the GROUP BY and HAVING clause to narrow your focus.\n",
                "\n",
                "Try multiple keywords, ie woman vs female (female ended up giving better results)"
            ],
            "metadata": {
                "azdata_cell_guid": "d220c097-e9cf-4edd-9abe-312d071217b7"
            },
            "attachments": {}
        },
        {
            "cell_type": "code",
            "source": [
                "-- Solution\r\n",
                "SELECT TOP 35 bt.tag_id, bt.count, t.tag_name\r\n",
                "FROM BooksDB.dbo.book_tags AS bt\r\n",
                "INNER JOIN BooksDB.dbo.tags AS t\r\n",
                "ON t.tag_id = bt.tag_id\r\n",
                "GROUP BY bt.tag_id, bt.count, t.tag_name\r\n",
                "HAVING t.tag_name LIKE '%female%'\r\n",
                "ORDER BY bt.count DESC"
            ],
            "metadata": {
                "azdata_cell_guid": "e31b9d26-0386-44c7-828e-85f4f06f3ee6",
                "language": "sql"
            },
            "outputs": [
                {
                    "output_type": "display_data",
                    "data": {
                        "text/html": "(35 rows affected)"
                    },
                    "metadata": {}
                },
                {
                    "output_type": "display_data",
                    "data": {
                        "text/html": "Total execution time: 00:00:00.294"
                    },
                    "metadata": {}
                },
                {
                    "output_type": "execute_result",
                    "metadata": {},
                    "execution_count": 31,
                    "data": {
                        "application/vnd.dataresource+json": {
                            "schema": {
                                "fields": [
                                    {
                                        "name": "tag_id"
                                    },
                                    {
                                        "name": "count"
                                    },
                                    {
                                        "name": "tag_name"
                                    }
                                ]
                            },
                            "data": [
                                {
                                    "0": "11644",
                                    "1": "214",
                                    "2": "female-authors"
                                },
                                {
                                    "0": "11643",
                                    "1": "198",
                                    "2": "female-author"
                                },
                                {
                                    "0": "11643",
                                    "1": "194",
                                    "2": "female-author"
                                },
                                {
                                    "0": "11644",
                                    "1": "170",
                                    "2": "female-authors"
                                },
                                {
                                    "0": "11644",
                                    "1": "158",
                                    "2": "female-authors"
                                },
                                {
                                    "0": "11643",
                                    "1": "150",
                                    "2": "female-author"
                                },
                                {
                                    "0": "11644",
                                    "1": "146",
                                    "2": "female-authors"
                                },
                                {
                                    "0": "11643",
                                    "1": "140",
                                    "2": "female-author"
                                },
                                {
                                    "0": "11643",
                                    "1": "137",
                                    "2": "female-author"
                                },
                                {
                                    "0": "11644",
                                    "1": "128",
                                    "2": "female-authors"
                                },
                                {
                                    "0": "11644",
                                    "1": "120",
                                    "2": "female-authors"
                                },
                                {
                                    "0": "11643",
                                    "1": "108",
                                    "2": "female-author"
                                },
                                {
                                    "0": "11644",
                                    "1": "106",
                                    "2": "female-authors"
                                },
                                {
                                    "0": "11643",
                                    "1": "104",
                                    "2": "female-author"
                                },
                                {
                                    "0": "11643",
                                    "1": "103",
                                    "2": "female-author"
                                },
                                {
                                    "0": "11644",
                                    "1": "102",
                                    "2": "female-authors"
                                },
                                {
                                    "0": "11643",
                                    "1": "93",
                                    "2": "female-author"
                                },
                                {
                                    "0": "11644",
                                    "1": "93",
                                    "2": "female-authors"
                                },
                                {
                                    "0": "11643",
                                    "1": "91",
                                    "2": "female-author"
                                },
                                {
                                    "0": "11644",
                                    "1": "91",
                                    "2": "female-authors"
                                },
                                {
                                    "0": "11644",
                                    "1": "90",
                                    "2": "female-authors"
                                },
                                {
                                    "0": "11644",
                                    "1": "89",
                                    "2": "female-authors"
                                },
                                {
                                    "0": "11643",
                                    "1": "87",
                                    "2": "female-author"
                                },
                                {
                                    "0": "11644",
                                    "1": "84",
                                    "2": "female-authors"
                                },
                                {
                                    "0": "11643",
                                    "1": "83",
                                    "2": "female-author"
                                },
                                {
                                    "0": "11644",
                                    "1": "83",
                                    "2": "female-authors"
                                },
                                {
                                    "0": "11643",
                                    "1": "82",
                                    "2": "female-author"
                                },
                                {
                                    "0": "11644",
                                    "1": "82",
                                    "2": "female-authors"
                                },
                                {
                                    "0": "11644",
                                    "1": "81",
                                    "2": "female-authors"
                                },
                                {
                                    "0": "11643",
                                    "1": "79",
                                    "2": "female-author"
                                },
                                {
                                    "0": "11643",
                                    "1": "77",
                                    "2": "female-author"
                                },
                                {
                                    "0": "11643",
                                    "1": "76",
                                    "2": "female-author"
                                },
                                {
                                    "0": "11644",
                                    "1": "76",
                                    "2": "female-authors"
                                },
                                {
                                    "0": "11643",
                                    "1": "75",
                                    "2": "female-author"
                                },
                                {
                                    "0": "11644",
                                    "1": "75",
                                    "2": "female-authors"
                                }
                            ]
                        },
                        "text/html": [
                            "<table>",
                            "<tr><th>tag_id</th><th>count</th><th>tag_name</th></tr>",
                            "<tr><td>11644</td><td>214</td><td>female-authors</td></tr>",
                            "<tr><td>11643</td><td>198</td><td>female-author</td></tr>",
                            "<tr><td>11643</td><td>194</td><td>female-author</td></tr>",
                            "<tr><td>11644</td><td>170</td><td>female-authors</td></tr>",
                            "<tr><td>11644</td><td>158</td><td>female-authors</td></tr>",
                            "<tr><td>11643</td><td>150</td><td>female-author</td></tr>",
                            "<tr><td>11644</td><td>146</td><td>female-authors</td></tr>",
                            "<tr><td>11643</td><td>140</td><td>female-author</td></tr>",
                            "<tr><td>11643</td><td>137</td><td>female-author</td></tr>",
                            "<tr><td>11644</td><td>128</td><td>female-authors</td></tr>",
                            "<tr><td>11644</td><td>120</td><td>female-authors</td></tr>",
                            "<tr><td>11643</td><td>108</td><td>female-author</td></tr>",
                            "<tr><td>11644</td><td>106</td><td>female-authors</td></tr>",
                            "<tr><td>11643</td><td>104</td><td>female-author</td></tr>",
                            "<tr><td>11643</td><td>103</td><td>female-author</td></tr>",
                            "<tr><td>11644</td><td>102</td><td>female-authors</td></tr>",
                            "<tr><td>11643</td><td>93</td><td>female-author</td></tr>",
                            "<tr><td>11644</td><td>93</td><td>female-authors</td></tr>",
                            "<tr><td>11643</td><td>91</td><td>female-author</td></tr>",
                            "<tr><td>11644</td><td>91</td><td>female-authors</td></tr>",
                            "<tr><td>11644</td><td>90</td><td>female-authors</td></tr>",
                            "<tr><td>11644</td><td>89</td><td>female-authors</td></tr>",
                            "<tr><td>11643</td><td>87</td><td>female-author</td></tr>",
                            "<tr><td>11644</td><td>84</td><td>female-authors</td></tr>",
                            "<tr><td>11643</td><td>83</td><td>female-author</td></tr>",
                            "<tr><td>11644</td><td>83</td><td>female-authors</td></tr>",
                            "<tr><td>11643</td><td>82</td><td>female-author</td></tr>",
                            "<tr><td>11644</td><td>82</td><td>female-authors</td></tr>",
                            "<tr><td>11644</td><td>81</td><td>female-authors</td></tr>",
                            "<tr><td>11643</td><td>79</td><td>female-author</td></tr>",
                            "<tr><td>11643</td><td>77</td><td>female-author</td></tr>",
                            "<tr><td>11643</td><td>76</td><td>female-author</td></tr>",
                            "<tr><td>11644</td><td>76</td><td>female-authors</td></tr>",
                            "<tr><td>11643</td><td>75</td><td>female-author</td></tr>",
                            "<tr><td>11644</td><td>75</td><td>female-authors</td></tr>",
                            "</table>"
                        ]
                    }
                }
            ],
            "execution_count": 31
        },
        {
            "cell_type": "markdown",
            "source": [
                "### **Which keyword(s) and tag(s) would you like to explore more?**\n",
                "\n",
                "Double click to edit."
            ],
            "metadata": {
                "azdata_cell_guid": "e9acd8b5-a62b-4ac0-bd07-19915b379ba6"
            },
            "attachments": {}
        },
        {
            "cell_type": "markdown",
            "source": [
                "### **Write a query to return authors, titles, ratings and** **selected tag(s)\\_id.**"
            ],
            "metadata": {
                "azdata_cell_guid": "59b84464-c0bc-4dac-9e02-0c803765b063"
            },
            "attachments": {}
        },
        {
            "cell_type": "code",
            "source": [
                "-- Solution\r\n",
                "SELECT TOP 20 b.authors, b.original_title, b.book_id, bt.tag_id, b.average_rating\r\n",
                "FROM BooksDB.dbo.books AS b\r\n",
                "INNER JOIN BooksDB.dbo.book_tags AS bt\r\n",
                "ON b.book_id = bt.goodreads_book_id\r\n",
                "WHERE bt.tag_id = 11643 OR bt.tag_id = 11644\r\n",
                "ORDER BY b.average_rating DESC\r\n",
                ""
            ],
            "metadata": {
                "azdata_cell_guid": "51ffeaaf-6dde-4906-95f3-eb8757babf27",
                "tags": [],
                "language": "sql"
            },
            "outputs": [
                {
                    "output_type": "display_data",
                    "data": {
                        "text/html": "(20 rows affected)"
                    },
                    "metadata": {}
                },
                {
                    "output_type": "display_data",
                    "data": {
                        "text/html": "Total execution time: 00:00:00.292"
                    },
                    "metadata": {}
                },
                {
                    "output_type": "execute_result",
                    "metadata": {},
                    "execution_count": 47,
                    "data": {
                        "application/vnd.dataresource+json": {
                            "schema": {
                                "fields": [
                                    {
                                        "name": "authors"
                                    },
                                    {
                                        "name": "original_title"
                                    },
                                    {
                                        "name": "book_id"
                                    },
                                    {
                                        "name": "tag_id"
                                    },
                                    {
                                        "name": "average_rating"
                                    }
                                ]
                            },
                            "data": [
                                {
                                    "0": "J.K. Rowling, Mary GrandPré",
                                    "1": "Harry Potter Boxed Set Books 1-4",
                                    "2": "99298",
                                    "3": "11643",
                                    "4": "4.66"
                                },
                                {
                                    "0": "Jane Austen",
                                    "1": "NULL",
                                    "2": "14905",
                                    "3": "11644",
                                    "4": "4.55"
                                },
                                {
                                    "0": "Bisco Hatori",
                                    "1": "桜蘭高校ホスト部 15",
                                    "2": "8163161",
                                    "3": "11643",
                                    "4": "4.54"
                                },
                                {
                                    "0": "Robin Hobb",
                                    "1": "Fool's Quest",
                                    "2": "23157777",
                                    "3": "11643",
                                    "4": "4.53"
                                },
                                {
                                    "0": "Robin Hobb",
                                    "1": "Fool's Quest",
                                    "2": "23157777",
                                    "3": "11644",
                                    "4": "4.53"
                                },
                                {
                                    "0": "C.S. Pacat",
                                    "1": "Kings Rising",
                                    "2": "17158532",
                                    "3": "11644",
                                    "4": "4.5"
                                },
                                {
                                    "0": "Hiromu Arakawa, Akira Watanabe",
                                    "1": "鋼の錬金術師 1",
                                    "2": "870",
                                    "3": "11644",
                                    "4": "4.49"
                                },
                                {
                                    "0": "Michelle Alexander",
                                    "1": "The New Jim Crow: Mass Incarceration in the Age of Colorblindness",
                                    "2": "6792458",
                                    "3": "11643",
                                    "4": "4.49"
                                },
                                {
                                    "0": "Chimamanda Ngozi Adichie",
                                    "1": "We Should All Be Feminists",
                                    "2": "22738563",
                                    "3": "11643",
                                    "4": "4.47"
                                },
                                {
                                    "0": "Chimamanda Ngozi Adichie",
                                    "1": "We Should All Be Feminists",
                                    "2": "22738563",
                                    "3": "11644",
                                    "4": "4.47"
                                },
                                {
                                    "0": "Julia Donaldson, Axel Scheffler",
                                    "1": "The Gruffalo",
                                    "2": "1013383",
                                    "3": "11643",
                                    "4": "4.47"
                                },
                                {
                                    "0": "J.K. Rowling, Mary GrandPré",
                                    "1": "Harry Potter and the Order of the Phoenix",
                                    "2": "2",
                                    "3": "11643",
                                    "4": "4.46"
                                },
                                {
                                    "0": "Flannery O'Connor",
                                    "1": "The Complete Stories",
                                    "2": "284996",
                                    "3": "11644",
                                    "4": "4.44"
                                },
                                {
                                    "0": "Flannery O'Connor",
                                    "1": "The Complete Stories",
                                    "2": "284996",
                                    "3": "11643",
                                    "4": "4.44"
                                },
                                {
                                    "0": "Lois McMaster Bujold",
                                    "1": "A Civil Campaign",
                                    "2": "61899",
                                    "3": "11643",
                                    "4": "4.43"
                                },
                                {
                                    "0": "Barbara Demick",
                                    "1": "Nothing to Envy: Ordinary Lives in North Korea",
                                    "2": "6178648",
                                    "3": "11644",
                                    "4": "4.42"
                                },
                                {
                                    "0": "Yaa Gyasi",
                                    "1": "Homegoing",
                                    "2": "27071490",
                                    "3": "11643",
                                    "4": "4.41"
                                },
                                {
                                    "0": "Yaa Gyasi",
                                    "1": "Homegoing",
                                    "2": "27071490",
                                    "3": "11644",
                                    "4": "4.41"
                                },
                                {
                                    "0": "Sharon Kay Penman",
                                    "1": "The Sunne in Splendour",
                                    "2": "119829",
                                    "3": "11643",
                                    "4": "4.4"
                                },
                                {
                                    "0": "J.K. Rowling",
                                    "1": "NULL",
                                    "2": "2002",
                                    "3": "11643",
                                    "4": "4.4"
                                }
                            ]
                        },
                        "text/html": [
                            "<table>",
                            "<tr><th>authors</th><th>original_title</th><th>book_id</th><th>tag_id</th><th>average_rating</th></tr>",
                            "<tr><td>J.K. Rowling, Mary GrandPré</td><td>Harry Potter Boxed Set Books 1-4</td><td>99298</td><td>11643</td><td>4.66</td></tr>",
                            "<tr><td>Jane Austen</td><td>NULL</td><td>14905</td><td>11644</td><td>4.55</td></tr>",
                            "<tr><td>Bisco Hatori</td><td>桜蘭高校ホスト部 15</td><td>8163161</td><td>11643</td><td>4.54</td></tr>",
                            "<tr><td>Robin Hobb</td><td>Fool's Quest</td><td>23157777</td><td>11643</td><td>4.53</td></tr>",
                            "<tr><td>Robin Hobb</td><td>Fool's Quest</td><td>23157777</td><td>11644</td><td>4.53</td></tr>",
                            "<tr><td>C.S. Pacat</td><td>Kings Rising</td><td>17158532</td><td>11644</td><td>4.5</td></tr>",
                            "<tr><td>Hiromu Arakawa, Akira Watanabe</td><td>鋼の錬金術師 1</td><td>870</td><td>11644</td><td>4.49</td></tr>",
                            "<tr><td>Michelle Alexander</td><td>The New Jim Crow: Mass Incarceration in the Age of Colorblindness</td><td>6792458</td><td>11643</td><td>4.49</td></tr>",
                            "<tr><td>Chimamanda Ngozi Adichie</td><td>We Should All Be Feminists</td><td>22738563</td><td>11643</td><td>4.47</td></tr>",
                            "<tr><td>Chimamanda Ngozi Adichie</td><td>We Should All Be Feminists</td><td>22738563</td><td>11644</td><td>4.47</td></tr>",
                            "<tr><td>Julia Donaldson, Axel Scheffler</td><td>The Gruffalo</td><td>1013383</td><td>11643</td><td>4.47</td></tr>",
                            "<tr><td>J.K. Rowling, Mary GrandPré</td><td>Harry Potter and the Order of the Phoenix</td><td>2</td><td>11643</td><td>4.46</td></tr>",
                            "<tr><td>Flannery O'Connor</td><td>The Complete Stories</td><td>284996</td><td>11644</td><td>4.44</td></tr>",
                            "<tr><td>Flannery O'Connor</td><td>The Complete Stories</td><td>284996</td><td>11643</td><td>4.44</td></tr>",
                            "<tr><td>Lois McMaster Bujold</td><td>A Civil Campaign</td><td>61899</td><td>11643</td><td>4.43</td></tr>",
                            "<tr><td>Barbara Demick</td><td>Nothing to Envy: Ordinary Lives in North Korea</td><td>6178648</td><td>11644</td><td>4.42</td></tr>",
                            "<tr><td>Yaa Gyasi</td><td>Homegoing</td><td>27071490</td><td>11643</td><td>4.41</td></tr>",
                            "<tr><td>Yaa Gyasi</td><td>Homegoing</td><td>27071490</td><td>11644</td><td>4.41</td></tr>",
                            "<tr><td>Sharon Kay Penman</td><td>The Sunne in Splendour</td><td>119829</td><td>11643</td><td>4.4</td></tr>",
                            "<tr><td>J.K. Rowling</td><td>NULL</td><td>2002</td><td>11643</td><td>4.4</td></tr>",
                            "</table>"
                        ]
                    }
                }
            ],
            "execution_count": 47
        },
        {
            "cell_type": "markdown",
            "source": [
                "### **Record your thoughts about why you wrote the query the way you did.**\n",
                "\n",
                "**The only thing that the books table is missing is a tag id to go with each book, so you have to join that table with the tags table to be able to sort the titles by the tag id you want and we already found the ones we want so we add a where statement to find just the books with those tags. Although, I'm not sure why my first query to find my tags had so many repeats with just different counts....**"
            ],
            "metadata": {
                "azdata_cell_guid": "1e19a72c-1bca-446b-a0c7-a8efbc35dcf1"
            },
            "attachments": {}
        },
        {
            "cell_type": "markdown",
            "source": [
                "# Part 2: Choose Another Month\n",
                "\n",
                "Choose another month and plan at least 2 events / promotions and answer the following questions.\n",
                "\n",
                "Which month did you choose?  \n",
                "\n",
                "What 2 events / promotions are you highlighting?\n",
                "\n",
                "> 1.\n",
                "\n",
                "> 2."
            ],
            "metadata": {
                "azdata_cell_guid": "3eaf376d-9de3-4553-a9d0-9caf74ee3d6a"
            },
            "attachments": {}
        },
        {
            "cell_type": "markdown",
            "source": [
                "# Part 3: Summarize your Work\n",
                "\n",
                "For each event write at least one query that joins any two tables in the BooksDB to support your choice and record you thoughts as to why you used the paticlular query. At least one of your queries needs to include a HAVING clause."
            ],
            "metadata": {
                "azdata_cell_guid": "1ba1363a-4f02-4962-a95a-93b80c5926b1"
            },
            "attachments": {}
        },
        {
            "cell_type": "code",
            "source": [
                "-- Event 1 Query"
            ],
            "metadata": {
                "azdata_cell_guid": "f50d32ce-4cb2-4af2-acb1-607777a76cf8",
                "language": "sql"
            },
            "outputs": [],
            "execution_count": null
        },
        {
            "cell_type": "code",
            "source": [
                ""
            ],
            "metadata": {
                "azdata_cell_guid": "5606f7f2-c46b-42d3-ac64-7ae21c3394f8",
                "language": "sql"
            },
            "outputs": [],
            "execution_count": null
        },
        {
            "cell_type": "markdown",
            "source": [
                "### **Summary of event 1:**\n",
                "\n",
                "Double Click to edit."
            ],
            "metadata": {
                "azdata_cell_guid": "3bc72d4c-077b-42d3-9528-9aff8e7b6cf3"
            },
            "attachments": {}
        },
        {
            "cell_type": "code",
            "source": [
                "-- Event 2 Query"
            ],
            "metadata": {
                "azdata_cell_guid": "dca0a98f-065f-4b0e-9d93-fcb01cad668c",
                "language": "sql"
            },
            "outputs": [],
            "execution_count": null
        },
        {
            "cell_type": "code",
            "source": [
                ""
            ],
            "metadata": {
                "azdata_cell_guid": "3aaae3a8-eff7-4b37-8970-2d913a67239b",
                "language": "sql"
            },
            "outputs": [],
            "execution_count": null
        },
        {
            "cell_type": "markdown",
            "source": [
                "### **Summary of event 2:**\n",
                "\n",
                "Double Click to edit."
            ],
            "metadata": {
                "azdata_cell_guid": "99d518dc-cd8b-42d6-9a9d-708771c9aa99"
            },
            "attachments": {}
        }
    ]
}